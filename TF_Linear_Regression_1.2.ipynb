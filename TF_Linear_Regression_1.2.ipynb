{
  "nbformat": 4,
  "nbformat_minor": 0,
  "metadata": {
    "colab": {
      "name": "Untitled1.ipynb",
      "version": "0.3.2",
      "provenance": [],
      "collapsed_sections": [],
      "include_colab_link": true
    },
    "kernelspec": {
      "name": "python3",
      "display_name": "Python 3"
    }
  },
  "cells": [
    {
      "cell_type": "markdown",
      "metadata": {
        "id": "view-in-github",
        "colab_type": "text"
      },
      "source": [
        "<a href=\"https://colab.research.google.com/github/rakeshmothukuru1/Test/blob/master/TF_Linear_Regression_1.2.ipynb\" target=\"_parent\"><img src=\"https://colab.research.google.com/assets/colab-badge.svg\" alt=\"Open In Colab\"/></a>"
      ]
    },
    {
      "metadata": {
        "id": "3eFTWts1l-Mf",
        "colab_type": "code",
        "colab": {}
      },
      "cell_type": "code",
      "source": [
        "import tensorflow as tf\n",
        "import numpy as np\n",
        "from sklearn.datasets import fetch_california_housing"
      ],
      "execution_count": 0,
      "outputs": []
    },
    {
      "metadata": {
        "id": "QhovuppfmKj0",
        "colab_type": "code",
        "colab": {
          "base_uri": "https://localhost:8080/",
          "height": 51
        },
        "outputId": "23c768a1-33b5-4fa7-9b18-bc226cfd5503"
      },
      "cell_type": "code",
      "source": [
        "housing = fetch_california_housing()\n",
        "m,n = housing.data.shape\n",
        "type(housing)"
      ],
      "execution_count": 3,
      "outputs": [
        {
          "output_type": "stream",
          "text": [
            "Downloading Cal. housing from https://ndownloader.figshare.com/files/5976036 to /root/scikit_learn_data\n"
          ],
          "name": "stderr"
        },
        {
          "output_type": "execute_result",
          "data": {
            "text/plain": [
              "sklearn.utils.Bunch"
            ]
          },
          "metadata": {
            "tags": []
          },
          "execution_count": 3
        }
      ]
    },
    {
      "metadata": {
        "id": "0NoKk7Yrn1VX",
        "colab_type": "code",
        "colab": {
          "base_uri": "https://localhost:8080/",
          "height": 34
        },
        "outputId": "728cd4e5-709e-446e-f800-dc5e6ee81bb9"
      },
      "cell_type": "code",
      "source": [
        "type(housing.data)"
      ],
      "execution_count": 4,
      "outputs": [
        {
          "output_type": "execute_result",
          "data": {
            "text/plain": [
              "numpy.ndarray"
            ]
          },
          "metadata": {
            "tags": []
          },
          "execution_count": 4
        }
      ]
    },
    {
      "metadata": {
        "id": "UsgXFtJrn5iU",
        "colab_type": "text"
      },
      "cell_type": "markdown",
      "source": [
        "Adding an Extra Bias Feature. **Question => Why should we add it or how shall we know that we should add a Bias Feature**"
      ]
    },
    {
      "metadata": {
        "id": "AlpMpDGtoSD0",
        "colab_type": "code",
        "colab": {}
      },
      "cell_type": "code",
      "source": [
        "housing_data_plus_bias = np.c_[np.ones((m,1)), housing.data]"
      ],
      "execution_count": 0,
      "outputs": []
    },
    {
      "metadata": {
        "id": "PAIH-Jibp-np",
        "colab_type": "text"
      },
      "cell_type": "markdown",
      "source": [
        "**Question: Why are we considering the variables, X and y as TensorFlow Constants, why not we considering them as TF Variables? **"
      ]
    },
    {
      "metadata": {
        "id": "wnHHokmdorrI",
        "colab_type": "code",
        "colab": {}
      },
      "cell_type": "code",
      "source": [
        "X = tf.constant(housing_data_plus_bias, dtype = tf.float32, name = \"X\")\n",
        "y = tf.constant(housing.target.reshape(-1,1), dtype = tf.float32, name = \"y\")"
      ],
      "execution_count": 0,
      "outputs": []
    },
    {
      "metadata": {
        "id": "_NWvxScrou0f",
        "colab_type": "code",
        "colab": {}
      },
      "cell_type": "code",
      "source": [
        "XT = tf.transpose(X)\n",
        "theta = tf.matmul(tf.matmul(tf.matrix_inverse(tf.matmul(XT,X)), XT), y)"
      ],
      "execution_count": 0,
      "outputs": []
    },
    {
      "metadata": {
        "id": "K0AhAcdqruj_",
        "colab_type": "code",
        "colab": {}
      },
      "cell_type": "code",
      "source": [
        "with tf.Session() as sess:\n",
        "  theta_value = theta.eval()"
      ],
      "execution_count": 0,
      "outputs": []
    },
    {
      "metadata": {
        "id": "mdCsAARbr8fR",
        "colab_type": "text"
      },
      "cell_type": "markdown",
      "source": [
        "**Implementing Gradient Descent:**\n",
        "    Manually Computing the Gradient Descent"
      ]
    },
    {
      "metadata": {
        "id": "3vy43krxsdCF",
        "colab_type": "code",
        "colab": {}
      },
      "cell_type": "code",
      "source": [
        "n_epochs = 1000\n",
        "learning_rate = 0.01"
      ],
      "execution_count": 0,
      "outputs": []
    },
    {
      "metadata": {
        "id": "7mPVn_UCtTrn",
        "colab_type": "code",
        "colab": {}
      },
      "cell_type": "code",
      "source": [
        "X = tf.constant(housing_data_plus_bias, dtype = tf.float32, name = \"X\")\n",
        "y = tf.constant(housing.target.reshape(-1,1), dtype = tf.float32, name = \"y\")"
      ],
      "execution_count": 0,
      "outputs": []
    },
    {
      "metadata": {
        "id": "habDm5antcbC",
        "colab_type": "code",
        "colab": {}
      },
      "cell_type": "code",
      "source": [
        "theta = tf.Variable(tf.random_uniform([n+1, 1], -1.0, 1.0), name = 'theta')\n",
        "y_pred = tf.matmul(X, theta, name = 'predictions')\n",
        "error = y_pred - y\n",
        "mse = tf.reduce_mean(tf.square(error), name = 'mse')\n",
        "gradients = 2/m * tf.matmul(tf.transpose(X), error)\n",
        "training_op = tf.assign(theta, theta - learning_rate * gradients)"
      ],
      "execution_count": 0,
      "outputs": []
    },
    {
      "metadata": {
        "id": "ivuib4wfuzoL",
        "colab_type": "code",
        "colab": {}
      },
      "cell_type": "code",
      "source": [
        "init = tf.global_variables_initializer()"
      ],
      "execution_count": 0,
      "outputs": []
    },
    {
      "metadata": {
        "id": "SC_RS7qbu4zw",
        "colab_type": "code",
        "colab": {
          "base_uri": "https://localhost:8080/",
          "height": 187
        },
        "outputId": "63f97083-6b44-46e2-bec9-80b3a1712112"
      },
      "cell_type": "code",
      "source": [
        "with tf.Session() as sess:\n",
        "  sess.run(init)\n",
        "  for epoch in range(n_epochs):\n",
        "    if epoch%100 ==0:\n",
        "      print(\"Epoch\", epoch, \"MSE =\", mse.eval())\n",
        "    sess.run(training_op)\n",
        "  best_theta = theta.eval()"
      ],
      "execution_count": 16,
      "outputs": [
        {
          "output_type": "stream",
          "text": [
            "Epoch 0 MSE = 1930922.6\n",
            "Epoch 100 MSE = nan\n",
            "Epoch 200 MSE = nan\n",
            "Epoch 300 MSE = nan\n",
            "Epoch 400 MSE = nan\n",
            "Epoch 500 MSE = nan\n",
            "Epoch 600 MSE = nan\n",
            "Epoch 700 MSE = nan\n",
            "Epoch 800 MSE = nan\n",
            "Epoch 900 MSE = nan\n"
          ],
          "name": "stdout"
        }
      ]
    },
    {
      "metadata": {
        "id": "OSvmr-7lwCkH",
        "colab_type": "text"
      },
      "cell_type": "markdown",
      "source": [
        "**Using Auto Diff:**"
      ]
    },
    {
      "metadata": {
        "id": "BqfbJkvive7N",
        "colab_type": "code",
        "colab": {
          "base_uri": "https://localhost:8080/",
          "height": 187
        },
        "outputId": "6ce3ab07-02ae-4fb1-cc7e-44fac6b50e78"
      },
      "cell_type": "code",
      "source": [
        "theta = tf.Variable(tf.random_uniform([n+1, 1], -1.0, 1.0), name = 'theta')\n",
        "y_pred = tf.matmul(X, theta, name = 'predictions')\n",
        "error = y_pred - y\n",
        "mse = tf.reduce_mean(tf.square(error), name = 'mse')\n",
        "gradients = tf.gradients(mse, [theta])[0]\n",
        "training_op = tf.assign(theta, theta - learning_rate * gradients)\n",
        "\n",
        "init = tf.global_variables_initializer()\n",
        "\n",
        "with tf.Session() as sess:\n",
        "  sess.run(init)\n",
        "  for epoch in range(n_epochs):\n",
        "    if epoch%100 ==0:\n",
        "      print(\"Epoch\", epoch, \"MSE =\", mse.eval())\n",
        "    sess.run(training_op)\n",
        "  best_theta = theta.eval()"
      ],
      "execution_count": 17,
      "outputs": [
        {
          "output_type": "stream",
          "text": [
            "Epoch 0 MSE = 1954446.6\n",
            "Epoch 100 MSE = nan\n",
            "Epoch 200 MSE = nan\n",
            "Epoch 300 MSE = nan\n",
            "Epoch 400 MSE = nan\n",
            "Epoch 500 MSE = nan\n",
            "Epoch 600 MSE = nan\n",
            "Epoch 700 MSE = nan\n",
            "Epoch 800 MSE = nan\n",
            "Epoch 900 MSE = nan\n"
          ],
          "name": "stdout"
        }
      ]
    },
    {
      "metadata": {
        "id": "PW1oYawhwklO",
        "colab_type": "text"
      },
      "cell_type": "markdown",
      "source": [
        "**Using GradientDescentOptimizer:**"
      ]
    },
    {
      "metadata": {
        "id": "Ag78gM47wUOw",
        "colab_type": "code",
        "colab": {
          "base_uri": "https://localhost:8080/",
          "height": 187
        },
        "outputId": "b2ddd542-928d-4c5a-b00d-88984d0b1f4c"
      },
      "cell_type": "code",
      "source": [
        "theta = tf.Variable(tf.random_uniform([n+1, 1], -1.0, 1.0), name = 'theta')\n",
        "y_pred = tf.matmul(X, theta, name = 'predictions')\n",
        "error = y_pred - y\n",
        "mse = tf.reduce_mean(tf.square(error), name = 'mse')\n",
        "#gradients = tf.gradients(mse, [theta])[0]\n",
        "optimizer = tf.train.GradientDescentOptimizer(learning_rate=learning_rate)\n",
        "#training_op = tf.assign(theta, theta - learning_rate * gradients)\n",
        "training_op = optimizer.minimize(mse)\n",
        "\n",
        "init = tf.global_variables_initializer()\n",
        "\n",
        "with tf.Session() as sess:\n",
        "  sess.run(init)\n",
        "  for epoch in range(n_epochs):\n",
        "    if epoch%100 ==0:\n",
        "      print(\"Epoch\", epoch, \"MSE =\", mse.eval())\n",
        "    sess.run(training_op)\n",
        "  best_theta = theta.eval()"
      ],
      "execution_count": 18,
      "outputs": [
        {
          "output_type": "stream",
          "text": [
            "Epoch 0 MSE = 739261.56\n",
            "Epoch 100 MSE = nan\n",
            "Epoch 200 MSE = nan\n",
            "Epoch 300 MSE = nan\n",
            "Epoch 400 MSE = nan\n",
            "Epoch 500 MSE = nan\n",
            "Epoch 600 MSE = nan\n",
            "Epoch 700 MSE = nan\n",
            "Epoch 800 MSE = nan\n",
            "Epoch 900 MSE = nan\n"
          ],
          "name": "stdout"
        }
      ]
    },
    {
      "metadata": {
        "id": "1C3dq6nLw9Vw",
        "colab_type": "text"
      },
      "cell_type": "markdown",
      "source": [
        "** Using Momentum Optimizer **"
      ]
    },
    {
      "metadata": {
        "id": "_IDfCHEexYaR",
        "colab_type": "code",
        "colab": {
          "base_uri": "https://localhost:8080/",
          "height": 187
        },
        "outputId": "9585c66f-c4bd-4c03-b098-a0a74cdb1d09"
      },
      "cell_type": "code",
      "source": [
        "theta = tf.Variable(tf.random_uniform([n+1, 1], -1.0, 1.0), name = 'theta')\n",
        "y_pred = tf.matmul(X, theta, name = 'predictions')\n",
        "error = y_pred - y\n",
        "mse = tf.reduce_mean(tf.square(error), name = 'mse')\n",
        "#gradients = tf.gradients(mse, [theta])[0]\n",
        "#optimizer = tf.train.GradientDescentOptimizer(learning_rate=learning_rate)\n",
        "optimizer = tf.train.MomentumOptimizer(learning_rate=learning_rate, momentum=0.9)\n",
        "#training_op = tf.assign(theta, theta - learning_rate * gradients)\n",
        "training_op = optimizer.minimize(mse)\n",
        "\n",
        "init = tf.global_variables_initializer()\n",
        "\n",
        "with tf.Session() as sess:\n",
        "  sess.run(init)\n",
        "  for epoch in range(n_epochs):\n",
        "    if epoch%100 ==0:\n",
        "      print(\"Epoch\", epoch, \"MSE =\", mse.eval())\n",
        "    sess.run(training_op)\n",
        "  best_theta = theta.eval()"
      ],
      "execution_count": 19,
      "outputs": [
        {
          "output_type": "stream",
          "text": [
            "Epoch 0 MSE = 446015.6\n",
            "Epoch 100 MSE = nan\n",
            "Epoch 200 MSE = nan\n",
            "Epoch 300 MSE = nan\n",
            "Epoch 400 MSE = nan\n",
            "Epoch 500 MSE = nan\n",
            "Epoch 600 MSE = nan\n",
            "Epoch 700 MSE = nan\n",
            "Epoch 800 MSE = nan\n",
            "Epoch 900 MSE = nan\n"
          ],
          "name": "stdout"
        }
      ]
    },
    {
      "metadata": {
        "id": "2894IHx_yMVO",
        "colab_type": "text"
      },
      "cell_type": "markdown",
      "source": [
        "** Feeding the Data to the Training Algorithm: ** Best way to do it is to use Place holder nodes"
      ]
    },
    {
      "metadata": {
        "id": "HVrT2F8Hyiqs",
        "colab_type": "text"
      },
      "cell_type": "markdown",
      "source": [
        "**Understanding Place Holder Nodes**"
      ]
    },
    {
      "metadata": {
        "id": "cULdSfgjyy3K",
        "colab_type": "code",
        "colab": {
          "base_uri": "https://localhost:8080/",
          "height": 68
        },
        "outputId": "517ff53d-fb41-4bfc-a5de-76a6b6453f0f"
      },
      "cell_type": "code",
      "source": [
        "A= tf.placeholder(tf.float32, shape = (None, 3))\n",
        "B = A + 5\n",
        "with tf.Session() as sess:\n",
        "  B_Val_1 = B.eval(feed_dict = {A: [[1,2,3]]})\n",
        "  B_Val_2 = B.eval(feed_dict = {A: [[4,5,6], [7,8,9]]})\n",
        "  print(B_Val_1)\n",
        "  print(B_Val_2)"
      ],
      "execution_count": 21,
      "outputs": [
        {
          "output_type": "stream",
          "text": [
            "[[6. 7. 8.]]\n",
            "[[ 9. 10. 11.]\n",
            " [12. 13. 14.]]\n"
          ],
          "name": "stdout"
        }
      ]
    },
    {
      "metadata": {
        "id": "sZ9yBMCtzYID",
        "colab_type": "text"
      },
      "cell_type": "markdown",
      "source": [
        "**Applying it in Mini-Batch Gradient Descent**"
      ]
    },
    {
      "metadata": {
        "id": "Ui1Lg-xjz1RO",
        "colab_type": "code",
        "colab": {}
      },
      "cell_type": "code",
      "source": [
        "X = tf.placeholder(tf.float32, shape = (None, n + 1), name = 'X')\n",
        "y = tf.placeholder(tf.float32, shape = (None, 1), name = 'y')"
      ],
      "execution_count": 0,
      "outputs": []
    },
    {
      "metadata": {
        "id": "3MySLub00Ges",
        "colab_type": "text"
      },
      "cell_type": "markdown",
      "source": [
        "**Define the Batch Size and Compute the Total Number of Branches**"
      ]
    },
    {
      "metadata": {
        "id": "QOTGybd00M-d",
        "colab_type": "code",
        "colab": {}
      },
      "cell_type": "code",
      "source": [
        "batch_size = 100\n",
        "n_batches = int(np.ceil(m/batch_size))"
      ],
      "execution_count": 0,
      "outputs": []
    },
    {
      "metadata": {
        "id": "SKd-g3-_0Yel",
        "colab_type": "code",
        "colab": {}
      },
      "cell_type": "code",
      "source": [
        ""
      ],
      "execution_count": 0,
      "outputs": []
    }
  ]
}